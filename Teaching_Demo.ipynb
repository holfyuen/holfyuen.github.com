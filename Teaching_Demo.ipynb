{
 "cells": [
  {
   "cell_type": "markdown",
   "metadata": {},
   "source": [
    "# Teaching Demo: Evaluating Machine Learning Models with scikit-learn"
   ]
  },
  {
   "cell_type": "code",
   "execution_count": 67,
   "metadata": {},
   "outputs": [
    {
     "name": "stdout",
     "output_type": "stream",
     "text": [
      "(426, 30) (143, 30)\n"
     ]
    }
   ],
   "source": [
    "import numpy as np\n",
    "import pandas as pd\n",
    "import matplotlib.pyplot as plt\n",
    "from sklearn.datasets import load_breast_cancer\n",
    "from sklearn.model_selection import train_test_split\n",
    "\n",
    "# We use breast cancer dataset as an example\n",
    "breast = load_breast_cancer()\n",
    "# Create features (X) and target (y) as data frames\n",
    "X = pd.DataFrame(breast.data, columns=breast.feature_names)\n",
    "y = pd.Series(breast.target)\n",
    "# Split into training and testing sets\n",
    "X_train, X_test, y_train, y_test = train_test_split(X, y, test_size=0.25, random_state=777)\n",
    "print (X_train.shape, X_test.shape)"
   ]
  },
  {
   "cell_type": "code",
   "execution_count": 68,
   "metadata": {},
   "outputs": [
    {
     "data": {
      "text/plain": [
       "1    357\n",
       "0    212\n",
       "dtype: int64"
      ]
     },
     "execution_count": 68,
     "metadata": {},
     "output_type": "execute_result"
    }
   ],
   "source": [
    "y.value_counts()"
   ]
  },
  {
   "cell_type": "code",
   "execution_count": 69,
   "metadata": {},
   "outputs": [
    {
     "data": {
      "text/plain": [
       "array(['malignant', 'benign'], dtype='<U9')"
      ]
     },
     "execution_count": 69,
     "metadata": {},
     "output_type": "execute_result"
    }
   ],
   "source": [
    "breast.target_names"
   ]
  },
  {
   "cell_type": "code",
   "execution_count": 70,
   "metadata": {},
   "outputs": [
    {
     "name": "stdout",
     "output_type": "stream",
     "text": [
      "Done!\n"
     ]
    }
   ],
   "source": [
    "# Build and train models\n",
    "from sklearn.neighbors import KNeighborsClassifier\n",
    "from sklearn.linear_model import LogisticRegression\n",
    "from sklearn.tree import DecisionTreeClassifier\n",
    "\n",
    "knn = KNeighborsClassifier()\n",
    "lr = LogisticRegression(random_state=111)\n",
    "dt = DecisionTreeClassifier(random_state=111)\n",
    "\n",
    "knn.fit(X_train, y_train)\n",
    "lr.fit(X_train, y_train)\n",
    "dt.fit(X_train, y_train)\n",
    "\n",
    "print ('Done!')"
   ]
  },
  {
   "cell_type": "markdown",
   "metadata": {},
   "source": [
    "## Method 1: Accuracy"
   ]
  },
  {
   "cell_type": "code",
   "execution_count": 71,
   "metadata": {
    "scrolled": true
   },
   "outputs": [
    {
     "name": "stdout",
     "output_type": "stream",
     "text": [
      "Accuracy: \n",
      "K-Nearest Neighbors: 93.01%\n",
      "Logistic Regression: 93.01%\n",
      "Decision Tree: 89.51%\n"
     ]
    }
   ],
   "source": [
    "# Print the accuracy\n",
    "print('Accuracy: ')\n",
    "print('K-Nearest Neighbors: ' + '{:.2%}'.format(knn.score(X_test, y_test)))\n",
    "print('Logistic Regression: ' + '{:.2%}'.format(lr.score(X_test, y_test)))\n",
    "print('Decision Tree: ' + '{:.2%}'.format(dt.score(X_test, y_test)))"
   ]
  },
  {
   "cell_type": "code",
   "execution_count": 72,
   "metadata": {},
   "outputs": [
    {
     "name": "stdout",
     "output_type": "stream",
     "text": [
      "Accuracy (training): \n",
      "K-Nearest Neighbors: 95.07%\n",
      "Logistic Regression: 96.71%\n",
      "Decision Tree: 100.00%\n"
     ]
    }
   ],
   "source": [
    "# Check with training set accuracy\n",
    "print('Accuracy (training): ')\n",
    "print('K-Nearest Neighbors: ' + '{:.2%}'.format(knn.score(X_train, y_train)))\n",
    "print('Logistic Regression: ' + '{:.2%}'.format(lr.score(X_train, y_train)))\n",
    "print('Decision Tree: ' + '{:.2%}'.format(dt.score(X_train, y_train)))"
   ]
  },
  {
   "cell_type": "markdown",
   "metadata": {},
   "source": [
    "## Method 2: Confusion Matrix, Precision, Recall and F-1 score"
   ]
  },
  {
   "cell_type": "code",
   "execution_count": 73,
   "metadata": {},
   "outputs": [
    {
     "name": "stdout",
     "output_type": "stream",
     "text": [
      "F-1 score: \n",
      "K-Nearest Neighbors: 0.948\n",
      "Logistic Regression: 0.947\n",
      "Decision Tree: 0.919\n"
     ]
    }
   ],
   "source": [
    "from sklearn.metrics import f1_score\n",
    "\n",
    "# K Nearest Neighbor\n",
    "print ('F-1 score: ')\n",
    "y_pred_knn = knn.predict(X_test)\n",
    "print ('K-Nearest Neighbors: ' + '{:.3f}'.format(f1_score(y_test, y_pred_knn)))\n",
    "y_pred_lr = lr.predict(X_test)\n",
    "print ('Logistic Regression: ' + '{:.3f}'.format(f1_score(y_test, y_pred_lr)))\n",
    "y_pred_dt = dt.predict(X_test)\n",
    "print ('Decision Tree: ' + '{:.3f}'.format(f1_score(y_test, y_pred_dt)))"
   ]
  },
  {
   "cell_type": "code",
   "execution_count": 74,
   "metadata": {},
   "outputs": [
    {
     "name": "stdout",
     "output_type": "stream",
     "text": [
      "[[43  6]\n",
      " [ 4 90]]\n"
     ]
    }
   ],
   "source": [
    "from sklearn.metrics import classification_report\n",
    "from sklearn.metrics import confusion_matrix\n",
    "\n",
    "# Confusion matrix\n",
    "# Logistic Regression\n",
    "print(confusion_matrix(y_test, y_pred_lr))"
   ]
  },
  {
   "cell_type": "code",
   "execution_count": 75,
   "metadata": {},
   "outputs": [
    {
     "name": "stdout",
     "output_type": "stream",
     "text": [
      "             precision    recall  f1-score   support\n",
      "\n",
      "          0       0.95      0.84      0.89        49\n",
      "          1       0.92      0.98      0.95        94\n",
      "\n",
      "avg / total       0.93      0.93      0.93       143\n",
      "\n"
     ]
    }
   ],
   "source": [
    "# Classification report\n",
    "# K-Nearest Neighbors\n",
    "print(classification_report(y_test, y_pred_knn))"
   ]
  },
  {
   "cell_type": "markdown",
   "metadata": {},
   "source": [
    "## Method 3: ROC curve and AUC"
   ]
  },
  {
   "cell_type": "code",
   "execution_count": 76,
   "metadata": {},
   "outputs": [
    {
     "data": {
      "image/png": "[encoded data removed]",
      "text/plain": [
       "<Figure size 432x288 with 1 Axes>"
      ]
     },
     "metadata": {},
     "output_type": "display_data"
    },
    {
     "name": "stdout",
     "output_type": "stream",
     "text": [
      "AUC for K-Nearest Neighbors: 0.955\n"
     ]
    }
   ],
   "source": [
    "from sklearn.metrics import roc_curve\n",
    "from sklearn.metrics import roc_auc_score\n",
    "\n",
    "# Use predict_proba to return probability predictions\n",
    "y_pred_prob_knn = knn.predict_proba(X_test)[:,1]\n",
    "fpr, tpr, thresholds = roc_curve(y_test, y_pred_prob_knn)\n",
    "\n",
    "plt.plot([0, 1], [0, 1], 'k--')\n",
    "plt.plot(fpr, tpr, 'bo-')\n",
    "plt.xlabel('False Positive Rate')\n",
    "plt.ylabel('True Positive Rate')\n",
    "plt.title('ROC Curve - KNN')\n",
    "plt.show()\n",
    "print(\"AUC for K-Nearest Neighbors: {:.3f}\".format(roc_auc_score(y_test, y_pred_prob_knn)))"
   ]
  },
  {
   "cell_type": "code",
   "execution_count": 77,
   "metadata": {},
   "outputs": [
    {
     "data": {
      "image/png": "[encoded data removed]",
      "text/plain": [
       "<Figure size 432x288 with 1 Axes>"
      ]
     },
     "metadata": {},
     "output_type": "display_data"
    },
    {
     "name": "stdout",
     "output_type": "stream",
     "text": [
      "AUC for Logistic Regression: 0.990\n"
     ]
    }
   ],
   "source": [
    "y_pred_prob_lr = lr.predict_proba(X_test)[:,1]\n",
    "fpr, tpr, thresholds = roc_curve(y_test, y_pred_prob_lr)\n",
    "\n",
    "plt.plot([0, 1], [0, 1], 'k--')\n",
    "plt.plot(fpr, tpr, 'bo-')\n",
    "plt.xlabel('False Positive Rate')\n",
    "plt.ylabel('True Positive Rate')\n",
    "plt.title('ROC Curve - Logistic Regression')\n",
    "plt.show()\n",
    "print(\"AUC for Logistic Regression: {:.3f}\".format(roc_auc_score(y_test, y_pred_prob_lr)))"
   ]
  },
  {
   "cell_type": "code",
   "execution_count": 78,
   "metadata": {},
   "outputs": [
    {
     "data": {
      "image/png": "[encoded data removed]",
      "text/plain": [
       "<Figure size 432x288 with 1 Axes>"
      ]
     },
     "metadata": {},
     "output_type": "display_data"
    },
    {
     "name": "stdout",
     "output_type": "stream",
     "text": [
      "AUC for Decision Tree: 0.891\n"
     ]
    }
   ],
   "source": [
    "y_pred_prob_dt = dt.predict_proba(X_test)[:,1]\n",
    "fpr, tpr, thresholds = roc_curve(y_test, y_pred_prob_dt)\n",
    "\n",
    "plt.plot([0, 1], [0, 1], 'k--')\n",
    "plt.plot(fpr, tpr, 'bo-')\n",
    "plt.xlabel('False Positive Rate')\n",
    "plt.ylabel('True Positive Rate')\n",
    "plt.title('ROC Curve - Decision Tree')\n",
    "plt.show()\n",
    "print(\"AUC for Decision Tree: {:.3f}\".format(roc_auc_score(y_test, y_pred_prob_dt)))"
   ]
  },
  {
   "cell_type": "code",
   "execution_count": 79,
   "metadata": {},
   "outputs": [
    {
     "name": "stdout",
     "output_type": "stream",
     "text": [
      "AUC with training set: \n",
      "K-Nearest Neighbors: 0.992\n",
      "Logistic Regression: 0.996\n",
      "Decision Tree: 1.000\n"
     ]
    }
   ],
   "source": [
    "# Check - Use training set\n",
    "print ('AUC with training set: ')\n",
    "y_pred_prob_knn_tr = knn.predict_proba(X_train)[:,1]\n",
    "y_pred_prob_lr_tr = lr.predict_proba(X_train)[:,1]\n",
    "y_pred_prob_dt_tr = dt.predict_proba(X_train)[:,1]\n",
    "print(\"K-Nearest Neighbors: {:.3f}\".format(roc_auc_score(y_train, y_pred_prob_knn_tr)))\n",
    "print(\"Logistic Regression: {:.3f}\".format(roc_auc_score(y_train, y_pred_prob_lr_tr)))\n",
    "print(\"Decision Tree: {:.3f}\".format(roc_auc_score(y_train, y_pred_prob_dt_tr)))"
   ]
  },
  {
   "cell_type": "code",
   "execution_count": 80,
   "metadata": {},
   "outputs": [
    {
     "data": {
      "image/png": "[encoded data removed]",
      "text/plain": [
       "<Figure size 432x288 with 1 Axes>"
      ]
     },
     "metadata": {},
     "output_type": "display_data"
    }
   ],
   "source": [
    "# Plot histogram of probability prediction\n",
    "# Logistic Regression\n",
    "plt.hist(y_pred_prob_lr);"
   ]
  },
  {
   "cell_type": "code",
   "execution_count": 81,
   "metadata": {},
   "outputs": [
    {
     "data": {
      "image/png": "[encoded data removed]",
      "text/plain": [
       "<Figure size 432x288 with 1 Axes>"
      ]
     },
     "metadata": {},
     "output_type": "display_data"
    }
   ],
   "source": [
    "# Decision Tree\n",
    "plt.hist(y_pred_prob_dt);"
   ]
  },
  {
   "cell_type": "markdown",
   "metadata": {},
   "source": [
    "## Method 4: Error Inspection"
   ]
  },
  {
   "cell_type": "code",
   "execution_count": 82,
   "metadata": {
    "scrolled": true
   },
   "outputs": [],
   "source": [
    "# Create a dataframe with features, true label and prediction\n",
    "# Use Logistic Regression prediction as example\n",
    "X_test2 = X_test.copy()\n",
    "X_test2['Label'] = y_test\n",
    "X_test2['Prediction'] = y_pred_lr"
   ]
  },
  {
   "cell_type": "code",
   "execution_count": 83,
   "metadata": {},
   "outputs": [
    {
     "data": {
      "text/html": [
       "<div>\n",
       "<style scoped>\n",
       "    .dataframe tbody tr th:only-of-type {\n",
       "        vertical-align: middle;\n",
       "    }\n",
       "\n",
       "    .dataframe tbody tr th {\n",
       "        vertical-align: top;\n",
       "    }\n",
       "\n",
       "    .dataframe thead th {\n",
       "        text-align: right;\n",
       "    }\n",
       "</style>\n",
       "<table border=\"1\" class=\"dataframe\">\n",
       "  <thead>\n",
       "    <tr style=\"text-align: right;\">\n",
       "      <th></th>\n",
       "      <th>mean radius</th>\n",
       "      <th>mean texture</th>\n",
       "      <th>mean perimeter</th>\n",
       "      <th>mean area</th>\n",
       "      <th>mean smoothness</th>\n",
       "      <th>mean compactness</th>\n",
       "      <th>mean concavity</th>\n",
       "      <th>mean concave points</th>\n",
       "      <th>mean symmetry</th>\n",
       "      <th>mean fractal dimension</th>\n",
       "      <th>...</th>\n",
       "      <th>worst perimeter</th>\n",
       "      <th>worst area</th>\n",
       "      <th>worst smoothness</th>\n",
       "      <th>worst compactness</th>\n",
       "      <th>worst concavity</th>\n",
       "      <th>worst concave points</th>\n",
       "      <th>worst symmetry</th>\n",
       "      <th>worst fractal dimension</th>\n",
       "      <th>Label</th>\n",
       "      <th>Prediction</th>\n",
       "    </tr>\n",
       "  </thead>\n",
       "  <tbody>\n",
       "    <tr>\n",
       "      <th>86</th>\n",
       "      <td>14.48</td>\n",
       "      <td>21.46</td>\n",
       "      <td>94.25</td>\n",
       "      <td>648.2</td>\n",
       "      <td>0.09444</td>\n",
       "      <td>0.09947</td>\n",
       "      <td>0.12040</td>\n",
       "      <td>0.04938</td>\n",
       "      <td>0.2075</td>\n",
       "      <td>0.05636</td>\n",
       "      <td>...</td>\n",
       "      <td>108.40</td>\n",
       "      <td>808.9</td>\n",
       "      <td>0.13060</td>\n",
       "      <td>0.1976</td>\n",
       "      <td>0.3349</td>\n",
       "      <td>0.12250</td>\n",
       "      <td>0.3020</td>\n",
       "      <td>0.06846</td>\n",
       "      <td>0</td>\n",
       "      <td>1</td>\n",
       "    </tr>\n",
       "    <tr>\n",
       "      <th>73</th>\n",
       "      <td>13.80</td>\n",
       "      <td>15.79</td>\n",
       "      <td>90.43</td>\n",
       "      <td>584.1</td>\n",
       "      <td>0.10070</td>\n",
       "      <td>0.12800</td>\n",
       "      <td>0.07789</td>\n",
       "      <td>0.05069</td>\n",
       "      <td>0.1662</td>\n",
       "      <td>0.06566</td>\n",
       "      <td>...</td>\n",
       "      <td>110.30</td>\n",
       "      <td>812.4</td>\n",
       "      <td>0.14110</td>\n",
       "      <td>0.3542</td>\n",
       "      <td>0.2779</td>\n",
       "      <td>0.13830</td>\n",
       "      <td>0.2589</td>\n",
       "      <td>0.10300</td>\n",
       "      <td>0</td>\n",
       "      <td>1</td>\n",
       "    </tr>\n",
       "    <tr>\n",
       "      <th>290</th>\n",
       "      <td>14.41</td>\n",
       "      <td>19.73</td>\n",
       "      <td>96.03</td>\n",
       "      <td>651.0</td>\n",
       "      <td>0.08757</td>\n",
       "      <td>0.16760</td>\n",
       "      <td>0.13620</td>\n",
       "      <td>0.06602</td>\n",
       "      <td>0.1714</td>\n",
       "      <td>0.07192</td>\n",
       "      <td>...</td>\n",
       "      <td>101.70</td>\n",
       "      <td>767.3</td>\n",
       "      <td>0.09983</td>\n",
       "      <td>0.2472</td>\n",
       "      <td>0.2220</td>\n",
       "      <td>0.10210</td>\n",
       "      <td>0.2272</td>\n",
       "      <td>0.08799</td>\n",
       "      <td>1</td>\n",
       "      <td>0</td>\n",
       "    </tr>\n",
       "    <tr>\n",
       "      <th>135</th>\n",
       "      <td>12.77</td>\n",
       "      <td>22.47</td>\n",
       "      <td>81.72</td>\n",
       "      <td>506.3</td>\n",
       "      <td>0.09055</td>\n",
       "      <td>0.05761</td>\n",
       "      <td>0.04711</td>\n",
       "      <td>0.02704</td>\n",
       "      <td>0.1585</td>\n",
       "      <td>0.06065</td>\n",
       "      <td>...</td>\n",
       "      <td>92.04</td>\n",
       "      <td>653.6</td>\n",
       "      <td>0.14190</td>\n",
       "      <td>0.1523</td>\n",
       "      <td>0.2177</td>\n",
       "      <td>0.09331</td>\n",
       "      <td>0.2829</td>\n",
       "      <td>0.08067</td>\n",
       "      <td>0</td>\n",
       "      <td>1</td>\n",
       "    </tr>\n",
       "    <tr>\n",
       "      <th>413</th>\n",
       "      <td>14.99</td>\n",
       "      <td>22.11</td>\n",
       "      <td>97.53</td>\n",
       "      <td>693.7</td>\n",
       "      <td>0.08515</td>\n",
       "      <td>0.10250</td>\n",
       "      <td>0.06859</td>\n",
       "      <td>0.03876</td>\n",
       "      <td>0.1944</td>\n",
       "      <td>0.05913</td>\n",
       "      <td>...</td>\n",
       "      <td>110.20</td>\n",
       "      <td>867.1</td>\n",
       "      <td>0.10770</td>\n",
       "      <td>0.3345</td>\n",
       "      <td>0.3114</td>\n",
       "      <td>0.13080</td>\n",
       "      <td>0.3163</td>\n",
       "      <td>0.09251</td>\n",
       "      <td>1</td>\n",
       "      <td>0</td>\n",
       "    </tr>\n",
       "    <tr>\n",
       "      <th>536</th>\n",
       "      <td>14.27</td>\n",
       "      <td>22.55</td>\n",
       "      <td>93.77</td>\n",
       "      <td>629.8</td>\n",
       "      <td>0.10380</td>\n",
       "      <td>0.11540</td>\n",
       "      <td>0.14630</td>\n",
       "      <td>0.06139</td>\n",
       "      <td>0.1926</td>\n",
       "      <td>0.05982</td>\n",
       "      <td>...</td>\n",
       "      <td>104.30</td>\n",
       "      <td>728.3</td>\n",
       "      <td>0.13800</td>\n",
       "      <td>0.2733</td>\n",
       "      <td>0.4234</td>\n",
       "      <td>0.13620</td>\n",
       "      <td>0.2698</td>\n",
       "      <td>0.08351</td>\n",
       "      <td>0</td>\n",
       "      <td>1</td>\n",
       "    </tr>\n",
       "    <tr>\n",
       "      <th>39</th>\n",
       "      <td>13.48</td>\n",
       "      <td>20.82</td>\n",
       "      <td>88.40</td>\n",
       "      <td>559.2</td>\n",
       "      <td>0.10160</td>\n",
       "      <td>0.12550</td>\n",
       "      <td>0.10630</td>\n",
       "      <td>0.05439</td>\n",
       "      <td>0.1720</td>\n",
       "      <td>0.06419</td>\n",
       "      <td>...</td>\n",
       "      <td>107.30</td>\n",
       "      <td>740.4</td>\n",
       "      <td>0.16100</td>\n",
       "      <td>0.4225</td>\n",
       "      <td>0.5030</td>\n",
       "      <td>0.22580</td>\n",
       "      <td>0.2807</td>\n",
       "      <td>0.10710</td>\n",
       "      <td>0</td>\n",
       "      <td>1</td>\n",
       "    </tr>\n",
       "    <tr>\n",
       "      <th>541</th>\n",
       "      <td>14.47</td>\n",
       "      <td>24.99</td>\n",
       "      <td>95.81</td>\n",
       "      <td>656.4</td>\n",
       "      <td>0.08837</td>\n",
       "      <td>0.12300</td>\n",
       "      <td>0.10090</td>\n",
       "      <td>0.03890</td>\n",
       "      <td>0.1872</td>\n",
       "      <td>0.06341</td>\n",
       "      <td>...</td>\n",
       "      <td>113.50</td>\n",
       "      <td>808.9</td>\n",
       "      <td>0.13400</td>\n",
       "      <td>0.4202</td>\n",
       "      <td>0.4040</td>\n",
       "      <td>0.12050</td>\n",
       "      <td>0.3187</td>\n",
       "      <td>0.10230</td>\n",
       "      <td>1</td>\n",
       "      <td>0</td>\n",
       "    </tr>\n",
       "    <tr>\n",
       "      <th>146</th>\n",
       "      <td>11.80</td>\n",
       "      <td>16.58</td>\n",
       "      <td>78.99</td>\n",
       "      <td>432.0</td>\n",
       "      <td>0.10910</td>\n",
       "      <td>0.17000</td>\n",
       "      <td>0.16590</td>\n",
       "      <td>0.07415</td>\n",
       "      <td>0.2678</td>\n",
       "      <td>0.07371</td>\n",
       "      <td>...</td>\n",
       "      <td>91.93</td>\n",
       "      <td>591.7</td>\n",
       "      <td>0.13850</td>\n",
       "      <td>0.4092</td>\n",
       "      <td>0.4504</td>\n",
       "      <td>0.18650</td>\n",
       "      <td>0.5774</td>\n",
       "      <td>0.10300</td>\n",
       "      <td>0</td>\n",
       "      <td>1</td>\n",
       "    </tr>\n",
       "    <tr>\n",
       "      <th>476</th>\n",
       "      <td>14.20</td>\n",
       "      <td>20.53</td>\n",
       "      <td>92.41</td>\n",
       "      <td>618.4</td>\n",
       "      <td>0.08931</td>\n",
       "      <td>0.11080</td>\n",
       "      <td>0.05063</td>\n",
       "      <td>0.03058</td>\n",
       "      <td>0.1506</td>\n",
       "      <td>0.06009</td>\n",
       "      <td>...</td>\n",
       "      <td>112.10</td>\n",
       "      <td>828.5</td>\n",
       "      <td>0.11530</td>\n",
       "      <td>0.3429</td>\n",
       "      <td>0.2512</td>\n",
       "      <td>0.13390</td>\n",
       "      <td>0.2534</td>\n",
       "      <td>0.07858</td>\n",
       "      <td>1</td>\n",
       "      <td>0</td>\n",
       "    </tr>\n",
       "  </tbody>\n",
       "</table>\n",
       "<p>10 rows × 32 columns</p>\n",
       "</div>"
      ],
      "text/plain": [
       "     mean radius  mean texture  mean perimeter  mean area  mean smoothness  \\\n",
       "86         14.48         21.46           94.25      648.2          0.09444   \n",
       "73         13.80         15.79           90.43      584.1          0.10070   \n",
       "290        14.41         19.73           96.03      651.0          0.08757   \n",
       "135        12.77         22.47           81.72      506.3          0.09055   \n",
       "413        14.99         22.11           97.53      693.7          0.08515   \n",
       "536        14.27         22.55           93.77      629.8          0.10380   \n",
       "39         13.48         20.82           88.40      559.2          0.10160   \n",
       "541        14.47         24.99           95.81      656.4          0.08837   \n",
       "146        11.80         16.58           78.99      432.0          0.10910   \n",
       "476        14.20         20.53           92.41      618.4          0.08931   \n",
       "\n",
       "     mean compactness  mean concavity  mean concave points  mean symmetry  \\\n",
       "86            0.09947         0.12040              0.04938         0.2075   \n",
       "73            0.12800         0.07789              0.05069         0.1662   \n",
       "290           0.16760         0.13620              0.06602         0.1714   \n",
       "135           0.05761         0.04711              0.02704         0.1585   \n",
       "413           0.10250         0.06859              0.03876         0.1944   \n",
       "536           0.11540         0.14630              0.06139         0.1926   \n",
       "39            0.12550         0.10630              0.05439         0.1720   \n",
       "541           0.12300         0.10090              0.03890         0.1872   \n",
       "146           0.17000         0.16590              0.07415         0.2678   \n",
       "476           0.11080         0.05063              0.03058         0.1506   \n",
       "\n",
       "     mean fractal dimension     ...      worst perimeter  worst area  \\\n",
       "86                  0.05636     ...               108.40       808.9   \n",
       "73                  0.06566     ...               110.30       812.4   \n",
       "290                 0.07192     ...               101.70       767.3   \n",
       "135                 0.06065     ...                92.04       653.6   \n",
       "413                 0.05913     ...               110.20       867.1   \n",
       "536                 0.05982     ...               104.30       728.3   \n",
       "39                  0.06419     ...               107.30       740.4   \n",
       "541                 0.06341     ...               113.50       808.9   \n",
       "146                 0.07371     ...                91.93       591.7   \n",
       "476                 0.06009     ...               112.10       828.5   \n",
       "\n",
       "     worst smoothness  worst compactness  worst concavity  \\\n",
       "86            0.13060             0.1976           0.3349   \n",
       "73            0.14110             0.3542           0.2779   \n",
       "290           0.09983             0.2472           0.2220   \n",
       "135           0.14190             0.1523           0.2177   \n",
       "413           0.10770             0.3345           0.3114   \n",
       "536           0.13800             0.2733           0.4234   \n",
       "39            0.16100             0.4225           0.5030   \n",
       "541           0.13400             0.4202           0.4040   \n",
       "146           0.13850             0.4092           0.4504   \n",
       "476           0.11530             0.3429           0.2512   \n",
       "\n",
       "     worst concave points  worst symmetry  worst fractal dimension  Label  \\\n",
       "86                0.12250          0.3020                  0.06846      0   \n",
       "73                0.13830          0.2589                  0.10300      0   \n",
       "290               0.10210          0.2272                  0.08799      1   \n",
       "135               0.09331          0.2829                  0.08067      0   \n",
       "413               0.13080          0.3163                  0.09251      1   \n",
       "536               0.13620          0.2698                  0.08351      0   \n",
       "39                0.22580          0.2807                  0.10710      0   \n",
       "541               0.12050          0.3187                  0.10230      1   \n",
       "146               0.18650          0.5774                  0.10300      0   \n",
       "476               0.13390          0.2534                  0.07858      1   \n",
       "\n",
       "     Prediction  \n",
       "86            1  \n",
       "73            1  \n",
       "290           0  \n",
       "135           1  \n",
       "413           0  \n",
       "536           1  \n",
       "39            1  \n",
       "541           0  \n",
       "146           1  \n",
       "476           0  \n",
       "\n",
       "[10 rows x 32 columns]"
      ]
     },
     "execution_count": 83,
     "metadata": {},
     "output_type": "execute_result"
    }
   ],
   "source": [
    "X_test2[y_test != y_pred_lr]"
   ]
  }
 ],
 "metadata": {
  "kernelspec": {
   "display_name": "Python 3",
   "language": "python",
   "name": "python3"
  },
  "language_info": {
   "codemirror_mode": {
    "name": "ipython",
    "version": 3
   },
   "file_extension": ".py",
   "mimetype": "text/x-python",
   "name": "python",
   "nbconvert_exporter": "python",
   "pygments_lexer": "ipython3",
   "version": "3.6.5"
  }
 },
 "nbformat": 4,
 "nbformat_minor": 2
}
